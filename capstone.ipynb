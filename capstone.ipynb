{
 "cells": [
  {
   "cell_type": "markdown",
   "metadata": {},
   "source": [
    "# Recommending restaurants to a user based off of their eating habits:"
   ]
  },
  {
   "cell_type": "markdown",
   "metadata": {},
   "source": [
    "*This notebook is for the capstone project in IBM Data Science by Coursera.*"
   ]
  },
  {
   "cell_type": "markdown",
   "metadata": {},
   "source": [
    "## Introduction / Business problem:"
   ]
  },
  {
   "cell_type": "markdown",
   "metadata": {},
   "source": [
    "There are 29,560 restaurants in Los Angeles according to a count in 2018. That is a lot of potential restaurants to choose from ranging in cuisines, loation and quality. Finding a restaurant that you will like is a hard, time-consuming and often laborious task. Websites such as Yelp can be helpful showing you some of the best rated restaurants in your area. However, just because other people have enjoyed that restaurant does not necessarily mean you will enjoy it. That is why there is a need for a more personalized system of recommending a restaurant to the individual user. \n",
    "\n",
    "In this notebook I will do just that, creating a recommendation system based off of a user's previous reviews and ratings they have left at some of their favorite restaurants in Los Angeles. The recommender will take into account the cuisine, quality and location of the restaurants and personalize the recommendations to the user."
   ]
  },
  {
   "cell_type": "markdown",
   "metadata": {},
   "source": [
    "## Data:"
   ]
  },
  {
   "cell_type": "markdown",
   "metadata": {},
   "source": [
    "The data that I will use to create the recommendation system will come from the *Foursquare API*. Two main datasets will be used. \n",
    "\n",
    "* A user's dataset in order to obtain the reviews, ratings, locations and restaurant history of the user. \n",
    "* A restaurants dataset that will contain the ultimate restaurants to be recommended to the user."
   ]
  },
  {
   "cell_type": "code",
   "execution_count": 1,
   "metadata": {
    "collapsed": true
   },
   "outputs": [],
   "source": [
    "import pandas as pd\n",
    "import numpy as np"
   ]
  },
  {
   "cell_type": "code",
   "execution_count": 2,
   "metadata": {
    "collapsed": true
   },
   "outputs": [],
   "source": [
    "df_rests = pd.DataFrame()\n",
    "df_user = pd.DataFrame()"
   ]
  }
 ],
 "metadata": {
  "kernelspec": {
   "display_name": "Python 2",
   "language": "python",
   "name": "python2"
  },
  "language_info": {
   "codemirror_mode": {
    "name": "ipython",
    "version": 2
   },
   "file_extension": ".py",
   "mimetype": "text/x-python",
   "name": "python",
   "nbconvert_exporter": "python",
   "pygments_lexer": "ipython2",
   "version": "2.7.13"
  }
 },
 "nbformat": 4,
 "nbformat_minor": 2
}
