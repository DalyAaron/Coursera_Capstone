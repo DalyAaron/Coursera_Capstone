{
 "cells": [
  {
   "cell_type": "markdown",
   "metadata": {},
   "source": [
    "# Recommending restaurants to a user based off of their eating habits:"
   ]
  },
  {
   "cell_type": "markdown",
   "metadata": {},
   "source": [
    "*This notebook is for the capstone project in IBM Data Science by Coursera.*"
   ]
  },
  {
   "cell_type": "markdown",
   "metadata": {},
   "source": [
    "## Introduction / Business problem:"
   ]
  },
  {
   "cell_type": "markdown",
   "metadata": {},
   "source": [
    "There are 29,560 restaurants in Los Angeles according to a count in 2018. That is a lot of potential restaurants to choose from ranging in cuisines, location and quality. Finding a restaurant that you will like is a hard, time-consuming and often laborious task. Websites such as Yelp can be helpful showing you some of the best rated restaurants in your area. However, just because other people have enjoyed a restaurant does not necessarily mean you will enjoy it too. That is why there is a need for a more personalized system of recommending a restaurant to the individual user. The reccomendation system is tailored to an individual user and thus the end-user is an individual who is looking for restaurant recommendations. \n",
    "\n",
    "In this notebook I will do just that, creating a recommendation system based off of a user's previous reviews and ratings they have left at some of their favorite restaurants in Los Angeles. The recommender will take into account the cuisine, quality and location of the restaurants and personalize the recommendations to the user."
   ]
  },
  {
   "cell_type": "markdown",
   "metadata": {},
   "source": [
    "## Data:"
   ]
  },
  {
   "cell_type": "markdown",
   "metadata": {},
   "source": [
    "There will be three main datasets used for this project:\n",
    "\n",
    "* **Postal codes and areas of Los Angeles - df_zips:**  \n",
    "A list of postal codes in the Greater Los Angeles are along with combined sub area of Los Angeles. This will be used in order to provide the area for a given venue based off of the zipcode. The data will be scraped using the Beautifulsoup API from the website http://www.laalmanac.com/communications/cm02_communities.php\n",
    "\n",
    "* **Restaurants - df_rests:**  \n",
    "This dataset will contain a list of restaurants along with their location and type of cuisine, in the Greater Los Angeles area. The final recommended restaurants will come from this list. The data will be grabbed from the Foursquare API. Once the user data is evaluated anda list of restaurants are predicted based off of location and cuisine, more details will be added to the df_rests table such as, rating, number of checkins etc. These attributes will be used with the user's data in order to best rank the restaurants.\n",
    "\n",
    "* **User's restaurant and review history - df_user:**  \n",
    "This will contain the user's reviews, ratings and locations of each restaurant they have visited. This will serve as an example of a unique user and the conditions in which the recomendation system will use to predict restaurants. This dataset is a fictional example of an individual user, which in a real world production scenario would be replaced with the Foursquare users API which allows a user id to be passed in order to get the user's data. Unfortunately, I do not have a list of Foursquare user id's, so this fictional dataset will suffice for this project.\n"
   ]
  },
  {
   "cell_type": "code",
   "execution_count": 66,
   "metadata": {},
   "outputs": [],
   "source": [
    "# Pre-reqs\n",
    "import pandas as pd\n",
    "import numpy as np\n",
    "from urllib.request import Request, urlopen\n",
    "from bs4 import BeautifulSoup as soup\n",
    "import requests"
   ]
  },
  {
   "cell_type": "code",
   "execution_count": 55,
   "metadata": {},
   "outputs": [],
   "source": [
    "# Creating the df_zips dataset\n",
    "df_zips = pd.DataFrame()\n",
    "source = Request(\"http://www.laalmanac.com/communications/cm02_communities.php\" , headers={'User-Agent': 'Mozilla/5.0'})\n",
    "html = urlopen(source).read()\n",
    "page_soup = soup(html, \"html.parser\")\n",
    "table = page_soup.find('table')\n",
    "table_rows = table.find_all('tr')\n",
    "lis = []\n",
    "for tr in table_rows:\n",
    "    td = tr.find_all('td')\n",
    "    row = [tr.text for tr in td]\n",
    "    lis.append(row)\n",
    "df_zips = pd.DataFrame(lis, columns=[\"Area\", \"Zipcode\"])    \n",
    "df_zips.dropna(inplace = True)"
   ]
  },
  {
   "cell_type": "code",
   "execution_count": 126,
   "metadata": {},
   "outputs": [],
   "source": [
    "# Creating the df_rests dataset\n",
    "CLIENT_ID = 'ZLTIUBPUGEOHF2RAMMRG23O110LLZGN32BIJTVBTT04KAZKM' # your Foursquare ID\n",
    "CLIENT_SECRET = 'E20HZOF5JFCXPNBTCTTNSWCEBPV2M0XOK5NZAACSVE5VLI1O' # your Foursquare Secret\n",
    "VERSION = '20180605' # Foursquare API version\n",
    "category = '4d4b7105d754a06374d81259'\n",
    "radius = 500\n",
    "limit = 100\n",
    "\n",
    "# create the API request URL\n",
    "url = 'https://api.foursquare.com/v2/venues/explore?&client_id={}&client_secret={}&v={}&near={}&categoryId={}&radius={}&limit={}'.format(CLIENT_ID, CLIENT_SECRET, VERSION, 'Beverly Hills, CA', category, radius, limit)\n",
    "# make the GET request\n",
    "results = requests.get(url).json()[\"response\"]['groups'][0]['items']\n",
    "# return only relevant information for each nearby venue\n",
    "restaurants = []\n",
    "restaurants.append([(v['venue']['id'], v['venue']['name'], v['venue']['location']['lat'], v['venue']['location']['lng'], v['venue']['categories'][0]['name']) for v in results])\n",
    "df_rests = pd.DataFrame([rest for restaurant_list in restaurants for rest in restaurant_list])\n",
    "df_rests.columns = ['Venue_id', 'Restaurant', 'Latitude', 'Longitude', 'Cuisine']"
   ]
  },
  {
   "cell_type": "code",
   "execution_count": 129,
   "metadata": {},
   "outputs": [],
   "source": [
    "# Creating the df_user dataset\n",
    "data = [['54938133498ed65f02e8c4ba', 'Redbird', 'Food was cold and not good', '5', '1'], \n",
    "        ['4c11f6d6d41e76b0cf49320d', 'Izakaya & Bar Fu-ga', 'Food was really good and excellent service', '8', '2'], \n",
    "        ['5d75ae0d3539dc0008e5913b', 'Kabuto', 'Food was good', '7', '1'],\n",
    "        ['4aa3f12af964a520784420e3', 'Meet in Paris', 'Amazing food', '9', '1'],\n",
    "        ['49c7fff6f964a520df571fe3', 'Tender Greens', 'Terrible salad', '3', '1'],\n",
    "        ['4ac6befcf964a52020b620e3', 'Thai Original BBQ Restaurant', 'Been here a couple of times, really good food', '8', '2'],\n",
    "        ['4cbd051fd78f4688408fcb73', 'El Metapaneco', 'Food was ok, service was bad', '6', '1'],\n",
    "        ['5d881c1aa3b6ca00086f4fea', 'Kappo Osen', 'Food was really good', '9', '2'],\n",
    "        ['501b4a83e4b06c31c5074498', 'Kagura', 'My go to spot', '9', '5'],\n",
    "        ['4e6acbefae60950955a7f1e1', 'Sushi Enya', 'Really good sushi', '10', '3'],\n",
    "        ['4aa49017f964a5201b4720e3', 'Shabu Shabu House', 'Food was great', '8', '2'],\n",
    "        ['4a07bb56f964a52098731fe3', 'Zencu Sushi & Grill', 'Parking was bad and food even worse', '3', '1'],\n",
    "        ['54aae895498e545686bde596', 'My Ramen Bar', 'Food was cold and not good', '5', '1'],\n",
    "        ['53421495498eff7fcb02e01e', 'Shiki Beverly Hills', 'Food was great', '8', '1'],\n",
    "        ['4a67cb8bf964a52010ca1fe3', 'Yu-N-Mi', 'Food was cold and not good', '10', '10']] \n",
    "  \n",
    "# Create the pandas DataFrame \n",
    "df_user = pd.DataFrame(data, columns = ['Venue_id', 'Restaurant', 'Review', 'Rating', 'Checkins']) "
   ]
  },
  {
   "cell_type": "markdown",
   "metadata": {},
   "source": [
    "#### An example of the df_zips dataset containing the zipcode(s) and area asssociated:"
   ]
  },
  {
   "cell_type": "code",
   "execution_count": 56,
   "metadata": {},
   "outputs": [
    {
     "data": {
      "text/html": [
       "<div>\n",
       "<style scoped>\n",
       "    .dataframe tbody tr th:only-of-type {\n",
       "        vertical-align: middle;\n",
       "    }\n",
       "\n",
       "    .dataframe tbody tr th {\n",
       "        vertical-align: top;\n",
       "    }\n",
       "\n",
       "    .dataframe thead th {\n",
       "        text-align: right;\n",
       "    }\n",
       "</style>\n",
       "<table border=\"1\" class=\"dataframe\">\n",
       "  <thead>\n",
       "    <tr style=\"text-align: right;\">\n",
       "      <th></th>\n",
       "      <th>Area</th>\n",
       "      <th>Zipcode</th>\n",
       "    </tr>\n",
       "  </thead>\n",
       "  <tbody>\n",
       "    <tr>\n",
       "      <td>1</td>\n",
       "      <td>Acton</td>\n",
       "      <td>93510</td>\n",
       "    </tr>\n",
       "    <tr>\n",
       "      <td>2</td>\n",
       "      <td>Agoura Hills</td>\n",
       "      <td>91301</td>\n",
       "    </tr>\n",
       "    <tr>\n",
       "      <td>3</td>\n",
       "      <td>Agoura Hills (PO Boxes)</td>\n",
       "      <td>91376</td>\n",
       "    </tr>\n",
       "    <tr>\n",
       "      <td>4</td>\n",
       "      <td>Agua Dulce</td>\n",
       "      <td>91390</td>\n",
       "    </tr>\n",
       "    <tr>\n",
       "      <td>5</td>\n",
       "      <td>Alhambra</td>\n",
       "      <td>91801, 91803</td>\n",
       "    </tr>\n",
       "  </tbody>\n",
       "</table>\n",
       "</div>"
      ],
      "text/plain": [
       "                      Area       Zipcode\n",
       "1                    Acton         93510\n",
       "2             Agoura Hills         91301\n",
       "3  Agoura Hills (PO Boxes)         91376\n",
       "4               Agua Dulce         91390\n",
       "5                 Alhambra  91801, 91803"
      ]
     },
     "execution_count": 56,
     "metadata": {},
     "output_type": "execute_result"
    }
   ],
   "source": [
    "df_zips.head()"
   ]
  },
  {
   "cell_type": "markdown",
   "metadata": {},
   "source": [
    "#### An example of the df_rests dataset containing their:"
   ]
  },
  {
   "cell_type": "code",
   "execution_count": 127,
   "metadata": {},
   "outputs": [
    {
     "data": {
      "text/html": [
       "<div>\n",
       "<style scoped>\n",
       "    .dataframe tbody tr th:only-of-type {\n",
       "        vertical-align: middle;\n",
       "    }\n",
       "\n",
       "    .dataframe tbody tr th {\n",
       "        vertical-align: top;\n",
       "    }\n",
       "\n",
       "    .dataframe thead th {\n",
       "        text-align: right;\n",
       "    }\n",
       "</style>\n",
       "<table border=\"1\" class=\"dataframe\">\n",
       "  <thead>\n",
       "    <tr style=\"text-align: right;\">\n",
       "      <th></th>\n",
       "      <th>Venue_id</th>\n",
       "      <th>Restaurant</th>\n",
       "      <th>Latitude</th>\n",
       "      <th>Longitude</th>\n",
       "      <th>Cuisine</th>\n",
       "    </tr>\n",
       "  </thead>\n",
       "  <tbody>\n",
       "    <tr>\n",
       "      <td>0</td>\n",
       "      <td>4b32a54ff964a520cc1025e3</td>\n",
       "      <td>Il Tramezzino Cafe</td>\n",
       "      <td>34.071685</td>\n",
       "      <td>-118.401878</td>\n",
       "      <td>Café</td>\n",
       "    </tr>\n",
       "    <tr>\n",
       "      <td>1</td>\n",
       "      <td>3fd66200f964a520cbee1ee3</td>\n",
       "      <td>Il Pastaio</td>\n",
       "      <td>34.070739</td>\n",
       "      <td>-118.400800</td>\n",
       "      <td>Italian Restaurant</td>\n",
       "    </tr>\n",
       "    <tr>\n",
       "      <td>2</td>\n",
       "      <td>58e6b8280acb6a688ace966a</td>\n",
       "      <td>Cafe Gratitude - Beverly Hills</td>\n",
       "      <td>34.070956</td>\n",
       "      <td>-118.401345</td>\n",
       "      <td>Vegetarian / Vegan Restaurant</td>\n",
       "    </tr>\n",
       "    <tr>\n",
       "      <td>3</td>\n",
       "      <td>4ab3ffaef964a520716f20e3</td>\n",
       "      <td>E. Baldi</td>\n",
       "      <td>34.070515</td>\n",
       "      <td>-118.400787</td>\n",
       "      <td>Italian Restaurant</td>\n",
       "    </tr>\n",
       "    <tr>\n",
       "      <td>4</td>\n",
       "      <td>42893400f964a52068231fe3</td>\n",
       "      <td>La Scala</td>\n",
       "      <td>34.071436</td>\n",
       "      <td>-118.401462</td>\n",
       "      <td>Italian Restaurant</td>\n",
       "    </tr>\n",
       "  </tbody>\n",
       "</table>\n",
       "</div>"
      ],
      "text/plain": [
       "                   Venue_id                      Restaurant   Latitude  \\\n",
       "0  4b32a54ff964a520cc1025e3              Il Tramezzino Cafe  34.071685   \n",
       "1  3fd66200f964a520cbee1ee3                      Il Pastaio  34.070739   \n",
       "2  58e6b8280acb6a688ace966a  Cafe Gratitude - Beverly Hills  34.070956   \n",
       "3  4ab3ffaef964a520716f20e3                        E. Baldi  34.070515   \n",
       "4  42893400f964a52068231fe3                        La Scala  34.071436   \n",
       "\n",
       "    Longitude                        Cuisine  \n",
       "0 -118.401878                           Café  \n",
       "1 -118.400800             Italian Restaurant  \n",
       "2 -118.401345  Vegetarian / Vegan Restaurant  \n",
       "3 -118.400787             Italian Restaurant  \n",
       "4 -118.401462             Italian Restaurant  "
      ]
     },
     "execution_count": 127,
     "metadata": {},
     "output_type": "execute_result"
    }
   ],
   "source": [
    "df_rests.head()"
   ]
  },
  {
   "cell_type": "markdown",
   "metadata": {},
   "source": [
    "#### An example of the df_user dataset containing their restaurant history, reviews, ratings and number of times they ghave checked in:"
   ]
  },
  {
   "cell_type": "code",
   "execution_count": 130,
   "metadata": {},
   "outputs": [
    {
     "data": {
      "text/html": [
       "<div>\n",
       "<style scoped>\n",
       "    .dataframe tbody tr th:only-of-type {\n",
       "        vertical-align: middle;\n",
       "    }\n",
       "\n",
       "    .dataframe tbody tr th {\n",
       "        vertical-align: top;\n",
       "    }\n",
       "\n",
       "    .dataframe thead th {\n",
       "        text-align: right;\n",
       "    }\n",
       "</style>\n",
       "<table border=\"1\" class=\"dataframe\">\n",
       "  <thead>\n",
       "    <tr style=\"text-align: right;\">\n",
       "      <th></th>\n",
       "      <th>Venue_id</th>\n",
       "      <th>Restaurant</th>\n",
       "      <th>Review</th>\n",
       "      <th>Rating</th>\n",
       "      <th>Checkins</th>\n",
       "    </tr>\n",
       "  </thead>\n",
       "  <tbody>\n",
       "    <tr>\n",
       "      <td>0</td>\n",
       "      <td>54938133498ed65f02e8c4ba</td>\n",
       "      <td>Redbird</td>\n",
       "      <td>Food was cold and not good</td>\n",
       "      <td>5</td>\n",
       "      <td>1</td>\n",
       "    </tr>\n",
       "    <tr>\n",
       "      <td>1</td>\n",
       "      <td>4c11f6d6d41e76b0cf49320d</td>\n",
       "      <td>Izakaya &amp; Bar Fu-ga</td>\n",
       "      <td>Food was really good and excellent service</td>\n",
       "      <td>8</td>\n",
       "      <td>2</td>\n",
       "    </tr>\n",
       "    <tr>\n",
       "      <td>2</td>\n",
       "      <td>5d75ae0d3539dc0008e5913b</td>\n",
       "      <td>Kabuto</td>\n",
       "      <td>Food was good</td>\n",
       "      <td>7</td>\n",
       "      <td>1</td>\n",
       "    </tr>\n",
       "    <tr>\n",
       "      <td>3</td>\n",
       "      <td>4aa3f12af964a520784420e3</td>\n",
       "      <td>Meet in Paris</td>\n",
       "      <td>Amazing food</td>\n",
       "      <td>9</td>\n",
       "      <td>1</td>\n",
       "    </tr>\n",
       "    <tr>\n",
       "      <td>4</td>\n",
       "      <td>49c7fff6f964a520df571fe3</td>\n",
       "      <td>Tender Greens</td>\n",
       "      <td>Terrible salad</td>\n",
       "      <td>3</td>\n",
       "      <td>1</td>\n",
       "    </tr>\n",
       "  </tbody>\n",
       "</table>\n",
       "</div>"
      ],
      "text/plain": [
       "                   Venue_id           Restaurant  \\\n",
       "0  54938133498ed65f02e8c4ba              Redbird   \n",
       "1  4c11f6d6d41e76b0cf49320d  Izakaya & Bar Fu-ga   \n",
       "2  5d75ae0d3539dc0008e5913b               Kabuto   \n",
       "3  4aa3f12af964a520784420e3        Meet in Paris   \n",
       "4  49c7fff6f964a520df571fe3        Tender Greens   \n",
       "\n",
       "                                       Review Rating Checkins  \n",
       "0                  Food was cold and not good      5        1  \n",
       "1  Food was really good and excellent service      8        2  \n",
       "2                               Food was good      7        1  \n",
       "3                                Amazing food      9        1  \n",
       "4                              Terrible salad      3        1  "
      ]
     },
     "execution_count": 130,
     "metadata": {},
     "output_type": "execute_result"
    }
   ],
   "source": [
    "df_user.head()"
   ]
  }
 ],
 "metadata": {
  "kernelspec": {
   "display_name": "Python 3",
   "language": "python",
   "name": "python3"
  },
  "language_info": {
   "codemirror_mode": {
    "name": "ipython",
    "version": 3
   },
   "file_extension": ".py",
   "mimetype": "text/x-python",
   "name": "python",
   "nbconvert_exporter": "python",
   "pygments_lexer": "ipython3",
   "version": "3.7.4"
  }
 },
 "nbformat": 4,
 "nbformat_minor": 2
}
